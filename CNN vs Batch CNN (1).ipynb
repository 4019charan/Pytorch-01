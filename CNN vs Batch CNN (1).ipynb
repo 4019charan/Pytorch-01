{
 "cells": [
  {
   "cell_type": "code",
   "execution_count": 1,
   "id": "98ec2335-f7f5-4be1-bc25-ac03052736fb",
   "metadata": {
    "tags": []
   },
   "outputs": [],
   "source": [
    "import torch\n",
    "import torchvision.datasets as dsets\n",
    "import torchvision.transforms as transforms\n",
    "import matplotlib.pyplot as plt\n",
    "from torch.utils.data import Dataset,DataLoader\n",
    "import torch.nn as nn"
   ]
  },
  {
   "cell_type": "code",
   "execution_count": 2,
   "id": "d4c18aa3-ec6c-445b-be3d-c6c9e1834898",
   "metadata": {
    "tags": []
   },
   "outputs": [],
   "source": [
    "from tqdm import tqdm\n",
    "from tqdm import trange"
   ]
  },
  {
   "cell_type": "code",
   "execution_count": 3,
   "id": "6536ab02-2f3b-4ba5-8ec2-e51c5e10475c",
   "metadata": {
    "tags": []
   },
   "outputs": [],
   "source": [
    "\n",
    "IMAGE_SIZE = 16\n",
    "\n",
    "\n",
    "composed = transforms.Compose([transforms.Resize((IMAGE_SIZE, IMAGE_SIZE)), transforms.ToTensor()])"
   ]
  },
  {
   "cell_type": "code",
   "execution_count": 4,
   "id": "600568bd-1eb3-4790-b30c-5b36673e3b30",
   "metadata": {
    "tags": []
   },
   "outputs": [],
   "source": [
    "#If you dont have data downloaded in /data dir please set download= True\n",
    "\n",
    "train_data = dsets.MNIST(root = './data',train = True,download = False,transform = composed)\n",
    "test_data = dsets.MNIST(root='./data',train = False,download = False,transform = composed)"
   ]
  },
  {
   "cell_type": "code",
   "execution_count": 5,
   "id": "155b5630-ea57-452b-93ad-1368eb534779",
   "metadata": {
    "tags": []
   },
   "outputs": [
    {
     "data": {
      "text/plain": [
       "10000"
      ]
     },
     "execution_count": 5,
     "metadata": {},
     "output_type": "execute_result"
    }
   ],
   "source": [
    "len(test_data)"
   ]
  },
  {
   "cell_type": "code",
   "execution_count": 6,
   "id": "d02afd68-8c95-4e75-bb69-3ffc5be827d9",
   "metadata": {
    "tags": []
   },
   "outputs": [],
   "source": [
    "train_data_loader = DataLoader(dataset = train_data,batch_size = 1000,shuffle=True)\n",
    "test_data_loader = DataLoader(dataset = test_data,batch_size = 5000,shuffle=True)"
   ]
  },
  {
   "cell_type": "code",
   "execution_count": 7,
   "id": "9233011c-9ad0-4410-9da2-0454f6b2c87f",
   "metadata": {
    "tags": []
   },
   "outputs": [],
   "source": [
    "class CNN_batch(nn.Module):\n",
    "    def __init__(self,filter1=16,filter2=32,number_of_classes=10):\n",
    "        super(CNN_batch,self).__init__()\n",
    "        self.cnn1 = nn.Conv2d(in_channels=1, out_channels=filter1, kernel_size=5, padding=2)\n",
    "        self.maxpool1=nn.MaxPool2d(kernel_size=2)\n",
    "        self.conv1_bn = nn.BatchNorm2d(filter1)\n",
    "        \n",
    "        self.cnn2 = nn.Conv2d(in_channels=filter1, out_channels=filter2, kernel_size=5, padding=2)\n",
    "        self.maxpool2=nn.MaxPool2d(kernel_size=2)\n",
    "        self.conv2_bn = nn.BatchNorm2d(filter2)\n",
    "        self.fc1 = nn.Linear(filter2 * 4 * 4, number_of_classes)\n",
    "        self.bn_fc1 = nn.BatchNorm1d(10)\n",
    "        \n",
    "    def forward(self,x):\n",
    "        x = self.cnn1(x)\n",
    "        x = self.conv1_bn(x)\n",
    "        x = torch.relu(x)\n",
    "        x = self.maxpool1(x)\n",
    "        x = self.cnn2(x)\n",
    "        x=self.conv2_bn(x)\n",
    "        x = torch.relu(x)\n",
    "        x = self.maxpool2(x)\n",
    "        x = x.view(x.size(0), -1)\n",
    "        x = self.fc1(x)\n",
    "        x=self.bn_fc1(x)\n",
    "        return x"
   ]
  },
  {
   "cell_type": "code",
   "execution_count": 8,
   "id": "b6813cb8-592b-4bb8-9348-494b8747f826",
   "metadata": {},
   "outputs": [],
   "source": [
    "\n",
    "\n",
    "class CNN(nn.Module):\n",
    "    \n",
    "    # Contructor\n",
    "    def __init__(self, filter1=16, filter2=32):\n",
    "        super(CNN, self).__init__()\n",
    "        self.cnn1 = nn.Conv2d(in_channels=1, out_channels=filter1, kernel_size=5, padding=2)\n",
    "        self.maxpool1=nn.MaxPool2d(kernel_size=2)\n",
    "\n",
    "        self.cnn2 = nn.Conv2d(in_channels=filter1, out_channels=filter2, kernel_size=5, stride=1, padding=2)\n",
    "        self.maxpool2=nn.MaxPool2d(kernel_size=2)\n",
    "        self.fc1 = nn.Linear(filter2 * 4 * 4, 10)\n",
    "    \n",
    "    # Prediction\n",
    "    def forward(self, x):\n",
    "        x = self.cnn1(x)\n",
    "        x = torch.relu(x)\n",
    "        x = self.maxpool1(x)\n",
    "        x = self.cnn2(x)\n",
    "        x = torch.relu(x)\n",
    "        x = self.maxpool2(x)\n",
    "        x = x.view(x.size(0), -1)\n",
    "        x = self.fc1(x)\n",
    "        return x\n"
   ]
  },
  {
   "cell_type": "code",
   "execution_count": null,
   "id": "9d537ee7-553f-4f05-a610-021c52c6844f",
   "metadata": {
    "tags": []
   },
   "outputs": [],
   "source": []
  },
  {
   "cell_type": "code",
   "execution_count": 9,
   "id": "a9c03e6b-f709-46df-bc14-835b7cc02e25",
   "metadata": {
    "tags": []
   },
   "outputs": [
    {
     "name": "stdout",
     "output_type": "stream",
     "text": [
      "1\n"
     ]
    }
   ],
   "source": [
    "print(1)"
   ]
  },
  {
   "cell_type": "code",
   "execution_count": 10,
   "id": "e8340a99-b15e-4e37-8901-2522330aa35c",
   "metadata": {},
   "outputs": [],
   "source": [
    "def train(lr,epochs,model,train_loader,validation_loader,optimizer):\n",
    "    #global variable \n",
    "    N_test=len(test_data)\n",
    "    N_train = len(train_data)\n",
    "    accuracy_list=[]\n",
    "    loss_list=[]\n",
    "    \n",
    "    for i in range(epochs):\n",
    "        loop = tqdm(train_loader)\n",
    "        for bid,(x,y) in enumerate(loop):\n",
    "            model.train()\n",
    "            optimizer.zero_grad()\n",
    "            z = model(x)\n",
    "            loss = criterion(z, y)\n",
    "            loss.backward()\n",
    "            optimizer.step()\n",
    "            loss_list.append(loss.data)\n",
    "            correct = 0\n",
    "            _,yhat = torch.max(z,1)\n",
    "            correct += (yhat == y).sum().item()\n",
    "            test_ac = correct / len(x)\n",
    "            loop.set_description(f'Epoch : [{i}/{epochs}]')\n",
    "            loop.set_postfix(loss = loss.item(),test_accuracy = test_ac)\n",
    "            \n",
    "            \n",
    "        correct = 0\n",
    "        for x_test, y_test in validation_loader:\n",
    "            \n",
    "            model.eval()\n",
    "            z= model(x_test)\n",
    "            _,yhat = torch.max(z,1)\n",
    "            correct += (yhat == y_test).sum().item()\n",
    "            \n",
    "        accuracy = correct / N_test\n",
    "        \n",
    "        accuracy_list.append(accuracy)\n",
    "\n",
    "    return accuracy_list, loss_list"
   ]
  },
  {
   "cell_type": "code",
   "execution_count": 11,
   "id": "ab950f40-3e0f-4670-9fc6-4f3d5ed9b2bc",
   "metadata": {
    "tags": []
   },
   "outputs": [
    {
     "data": {
      "text/plain": [
       "2"
      ]
     },
     "execution_count": 11,
     "metadata": {},
     "output_type": "execute_result"
    }
   ],
   "source": [
    "len(test_data_loader)"
   ]
  },
  {
   "cell_type": "code",
   "execution_count": 12,
   "id": "a890a206-8ab2-4b33-b657-6541487e7109",
   "metadata": {
    "tags": []
   },
   "outputs": [
    {
     "name": "stderr",
     "output_type": "stream",
     "text": [
      "Epoch : [0/10]: 100%|██████████| 60/60 [00:06<00:00,  8.82it/s, loss=0.316, test_accuracy=0.964]\n",
      "Epoch : [1/10]: 100%|██████████| 60/60 [00:06<00:00,  9.17it/s, loss=0.195, test_accuracy=0.98] \n",
      "Epoch : [2/10]: 100%|██████████| 60/60 [00:06<00:00,  9.34it/s, loss=0.134, test_accuracy=0.985]\n",
      "Epoch : [3/10]: 100%|██████████| 60/60 [00:06<00:00,  9.51it/s, loss=0.121, test_accuracy=0.985]\n",
      "Epoch : [4/10]: 100%|██████████| 60/60 [00:06<00:00,  9.58it/s, loss=0.104, test_accuracy=0.985] \n",
      "Epoch : [5/10]: 100%|██████████| 60/60 [00:06<00:00,  8.73it/s, loss=0.0934, test_accuracy=0.993]\n",
      "Epoch : [6/10]: 100%|██████████| 60/60 [00:06<00:00,  9.54it/s, loss=0.0684, test_accuracy=0.993]\n",
      "Epoch : [7/10]: 100%|██████████| 60/60 [00:06<00:00,  9.43it/s, loss=0.0643, test_accuracy=0.995]\n",
      "Epoch : [8/10]: 100%|██████████| 60/60 [00:06<00:00,  8.97it/s, loss=0.0644, test_accuracy=0.989]\n",
      "Epoch : [9/10]: 100%|██████████| 60/60 [00:06<00:00,  9.09it/s, loss=0.0636, test_accuracy=0.994]\n"
     ]
    }
   ],
   "source": [
    "## CNN with batch normalization\n",
    "\n",
    "model_batch=CNN_batch(filter1=16, filter2=32)\n",
    "criterion = nn.CrossEntropyLoss()\n",
    "learning_rate = 0.1\n",
    "optimizer = torch.optim.SGD(model_batch.parameters(), lr = learning_rate)\n",
    "accuracy_list_batch, loss_list_batch=train(model=model_batch,epochs=10,train_loader=train_data_loader,validation_loader=test_data_loader,optimizer=optimizer,lr = learning_rate)"
   ]
  },
  {
   "cell_type": "code",
   "execution_count": 13,
   "id": "f5227a49-4c0d-43e5-973a-89ed9e9d54ba",
   "metadata": {},
   "outputs": [
    {
     "name": "stderr",
     "output_type": "stream",
     "text": [
      "Epoch : [0/10]: 100%|██████████| 60/60 [00:05<00:00, 10.47it/s, loss=1.31, test_accuracy=0.609]\n",
      "Epoch : [1/10]: 100%|██████████| 60/60 [00:05<00:00, 10.25it/s, loss=0.378, test_accuracy=0.893]\n",
      "Epoch : [2/10]: 100%|██████████| 60/60 [00:05<00:00, 10.57it/s, loss=0.332, test_accuracy=0.913]\n",
      "Epoch : [3/10]: 100%|██████████| 60/60 [00:06<00:00,  9.93it/s, loss=0.226, test_accuracy=0.936]\n",
      "Epoch : [4/10]: 100%|██████████| 60/60 [00:05<00:00, 10.32it/s, loss=0.236, test_accuracy=0.933]\n",
      "Epoch : [5/10]: 100%|██████████| 60/60 [00:06<00:00,  9.29it/s, loss=0.182, test_accuracy=0.949]\n",
      "Epoch : [6/10]: 100%|██████████| 60/60 [00:05<00:00, 10.12it/s, loss=0.158, test_accuracy=0.96] \n",
      "Epoch : [7/10]: 100%|██████████| 60/60 [00:05<00:00, 10.51it/s, loss=0.138, test_accuracy=0.956]\n",
      "Epoch : [8/10]: 100%|██████████| 60/60 [00:06<00:00,  9.85it/s, loss=0.145, test_accuracy=0.95] \n",
      "Epoch : [9/10]: 100%|██████████| 60/60 [00:05<00:00, 10.84it/s, loss=0.125, test_accuracy=0.955] \n"
     ]
    }
   ],
   "source": [
    "## CNN without batch\n",
    "model = CNN(filter1=16, filter2=32)\n",
    "criterion = nn.CrossEntropyLoss()\n",
    "learning_rate = 0.1\n",
    "optimizer = torch.optim.SGD(model.parameters(), lr = learning_rate)\n",
    "accuracy_list_normal, loss_list_normal=train(model=model,epochs=10,train_loader=train_data_loader,validation_loader=test_data_loader,optimizer=optimizer,lr = learning_rate)"
   ]
  },
  {
   "cell_type": "markdown",
   "id": "6f13c7fd-dd04-4039-9cc1-29b9f7a55f79",
   "metadata": {
    "tags": []
   },
   "source": [
    "<h2 id=\"Result\">Analyze Results</h2> "
   ]
  },
  {
   "cell_type": "code",
   "execution_count": 14,
   "id": "164653d2-501d-440f-af99-45ec1b578d1a",
   "metadata": {
    "tags": []
   },
   "outputs": [
    {
     "data": {
      "text/plain": [
       "<matplotlib.legend.Legend at 0x150a73ef9f00>"
      ]
     },
     "execution_count": 14,
     "metadata": {},
     "output_type": "execute_result"
    },
    {
     "data": {
      "image/png": "[encoded data removed]",
      "text/plain": [
       "<Figure size 640x480 with 1 Axes>"
      ]
     },
     "metadata": {},
     "output_type": "display_data"
    }
   ],
   "source": [
    "# Plot the loss and accuracy\n",
    "\n",
    "plt.plot(loss_list_normal, 'b',label='loss normal cnn ')\n",
    "plt.plot(loss_list_batch,'r',label='loss batch cnn')\n",
    "plt.xlabel('iteration')\n",
    "plt.title(\"loss\")\n",
    "plt.legend()"
   ]
  },
  {
   "cell_type": "code",
   "execution_count": 15,
   "id": "2bb97ff4-1af0-44cc-8b03-8a1a8efb1aad",
   "metadata": {
    "tags": []
   },
   "outputs": [
    {
     "data": {
      "image/png": "[encoded data removed]",
      "text/plain": [
       "<Figure size 640x480 with 1 Axes>"
      ]
     },
     "metadata": {},
     "output_type": "display_data"
    }
   ],
   "source": [
    "plt.plot(accuracy_list_normal, 'b',label=' normal CNN')\n",
    "plt.plot(accuracy_list_batch,'r',label=' CNN with Batch Norm')\n",
    "plt.xlabel('Epoch')\n",
    "plt.title(\"Accuracy \")\n",
    "plt.legend()\n",
    "plt.show()"
   ]
  },
  {
   "cell_type": "code",
   "execution_count": null,
   "id": "5a4c79bf-2ba7-42cb-9b15-e5d3f2682c3e",
   "metadata": {},
   "outputs": [],
   "source": []
  }
 ],
 "metadata": {
  "kernelspec": {
   "display_name": "Python 3 (ipykernel)",
   "language": "python",
   "name": "python3"
  },
  "language_info": {
   "codemirror_mode": {
    "name": "ipython",
    "version": 3
   },
   "file_extension": ".py",
   "mimetype": "text/x-python",
   "name": "python",
   "nbconvert_exporter": "python",
   "pygments_lexer": "ipython3",
   "version": "3.10.9"
  }
 },
 "nbformat": 4,
 "nbformat_minor": 5
}
